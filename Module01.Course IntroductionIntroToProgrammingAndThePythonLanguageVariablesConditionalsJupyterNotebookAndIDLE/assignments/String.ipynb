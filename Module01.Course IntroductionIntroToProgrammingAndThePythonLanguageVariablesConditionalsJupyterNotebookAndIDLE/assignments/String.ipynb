{
 "cells": [
  {
   "cell_type": "code",
   "execution_count": 1,
   "metadata": {},
   "outputs": [
    {
     "name": "stdout",
     "output_type": "stream",
     "text": [
      "James Brian Patrick\n"
     ]
    }
   ],
   "source": [
    "# Concatenate the strings 'James', 'Brian', and 'Patrick' - store the result in a variable called 'q11', then print it out. \n",
    "# Make sure to add a single empty space between the names!\n",
    "q11 = \"James \" + \"Brian \" + \"Patrick\"\n",
    "print(q11)"
   ]
  },
  {
   "cell_type": "code",
   "execution_count": 2,
   "metadata": {},
   "outputs": [
    {
     "name": "stdout",
     "output_type": "stream",
     "text": [
      "4 % 2 = 0\n"
     ]
    }
   ],
   "source": [
    "# Make the following string correct, storing it in a variable named 'q12':\n",
    "# q12 = \"4 % 2 = \" + (4 % 2))\n",
    "q12 = \"4 % 2 = \" + str(4 % 2)\n",
    "print(q12)"
   ]
  },
  {
   "cell_type": "code",
   "execution_count": 3,
   "metadata": {},
   "outputs": [
    {
     "name": "stdout",
     "output_type": "stream",
     "text": [
      "Albert Einstein's best quote is \"I have no special talent. I am only passionately curious.\"\n"
     ]
    }
   ],
   "source": [
    "# Save the following quote, (including the double quotes), in a variable called 'q13', then print it:\n",
    "# Albert Einstein's best quote is \"I have no special talent. I am only passionately curious.\"\n",
    "q13 = \"Albert Einstein's best quote is \\\"I have no special talent. I am only passionately curious.\\\"\"\n",
    "print(q13)"
   ]
  }
 ],
 "metadata": {
  "interpreter": {
   "hash": "916dbcbb3f70747c44a77c7bcd40155683ae19c65e1c03b4aa3499c5328201f1"
  },
  "kernelspec": {
   "display_name": "Python 3.8.10 64-bit",
   "language": "python",
   "name": "python3"
  },
  "language_info": {
   "codemirror_mode": {
    "name": "ipython",
    "version": 3
   },
   "file_extension": ".py",
   "mimetype": "text/x-python",
   "name": "python",
   "nbconvert_exporter": "python",
   "pygments_lexer": "ipython3",
   "version": "3.8.10"
  },
  "orig_nbformat": 4
 },
 "nbformat": 4,
 "nbformat_minor": 2
}
