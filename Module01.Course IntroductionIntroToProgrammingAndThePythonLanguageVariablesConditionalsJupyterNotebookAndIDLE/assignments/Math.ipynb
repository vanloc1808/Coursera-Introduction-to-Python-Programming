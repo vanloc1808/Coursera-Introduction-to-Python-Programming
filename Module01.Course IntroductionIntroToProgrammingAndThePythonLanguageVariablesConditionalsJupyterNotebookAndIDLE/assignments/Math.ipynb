{
 "cells": [
  {
   "cell_type": "code",
   "execution_count": 2,
   "metadata": {},
   "outputs": [
    {
     "name": "stdout",
     "output_type": "stream",
     "text": [
      "19260.93\n"
     ]
    }
   ],
   "source": [
    "# Calculate the result of 3.93 multiplied by 4901 and save it in a variable named 'q1', then print it out.\n",
    "q1 = 3.93 * 4901\n",
    "print(q1)"
   ]
  },
  {
   "cell_type": "code",
   "execution_count": 3,
   "metadata": {},
   "outputs": [
    {
     "name": "stdout",
     "output_type": "stream",
     "text": [
      "35.833333333333336\n"
     ]
    }
   ],
   "source": [
    "# Calculate the result of 215 divided by 6 and save it in a variable named 'q2', then print it out.\n",
    "q2 = 215 / 6\n",
    "print(q2)"
   ]
  },
  {
   "cell_type": "code",
   "execution_count": 4,
   "metadata": {},
   "outputs": [
    {
     "name": "stdout",
     "output_type": "stream",
     "text": [
      "10.0\n"
     ]
    }
   ],
   "source": [
    "# Calculate the result of 3 divided by 0.3 and save it in a variable named 'q3', then print it out.\n",
    "q3 = 3 / 0.3\n",
    "print(q3)"
   ]
  },
  {
   "cell_type": "code",
   "execution_count": 6,
   "metadata": {},
   "outputs": [
    {
     "name": "stdout",
     "output_type": "stream",
     "text": [
      "5\n"
     ]
    }
   ],
   "source": [
    "# Calculate the remainder of 215 divided by 6 and save it in a variable named 'q4', then print it out.\n",
    "q4 = 215 % 6\n",
    "print(q4)"
   ]
  },
  {
   "cell_type": "code",
   "execution_count": 7,
   "metadata": {},
   "outputs": [
    {
     "name": "stdout",
     "output_type": "stream",
     "text": [
      "282429536481\n"
     ]
    }
   ],
   "source": [
    "# Calculate the value of 9 raised to the 12th power and save it in a variable named 'q5', then print it out.\n",
    "q5 = 9 ** 12\n",
    "print(q5)"
   ]
  },
  {
   "cell_type": "code",
   "execution_count": 8,
   "metadata": {},
   "outputs": [
    {
     "name": "stdout",
     "output_type": "stream",
     "text": [
      "3\n"
     ]
    }
   ],
   "source": [
    "# Calculate the nearest integer of 3.5 (convert 3.5 to an integer) and save it in a variable named 'q6', then print it out.\n",
    "q6 = int(3.5)\n",
    "print(q6)"
   ]
  }
 ],
 "metadata": {
  "interpreter": {
   "hash": "916dbcbb3f70747c44a77c7bcd40155683ae19c65e1c03b4aa3499c5328201f1"
  },
  "kernelspec": {
   "display_name": "Python 3.8.10 64-bit",
   "language": "python",
   "name": "python3"
  },
  "language_info": {
   "codemirror_mode": {
    "name": "ipython",
    "version": 3
   },
   "file_extension": ".py",
   "mimetype": "text/x-python",
   "name": "python",
   "nbconvert_exporter": "python",
   "pygments_lexer": "ipython3",
   "version": "3.8.10"
  },
  "orig_nbformat": 4
 },
 "nbformat": 4,
 "nbformat_minor": 2
}
